{
 "cells": [
  {
   "cell_type": "code",
   "execution_count": 1,
   "id": "becoming-childhood",
   "metadata": {},
   "outputs": [],
   "source": [
    "import tensorflow as tf\n",
    "import os\n",
    "import seaborn"
   ]
  },
  {
   "cell_type": "code",
   "execution_count": 2,
   "id": "central-bikini",
   "metadata": {},
   "outputs": [
    {
     "name": "stdout",
     "output_type": "stream",
     "text": [
      "WARNING:tensorflow:From /Users/ericdoug/opt/anaconda3/envs/competition/lib/python3.7/site-packages/tensorflow/python/compat/v2_compat.py:96: disable_resource_variables (from tensorflow.python.ops.variable_scope) is deprecated and will be removed in a future version.\n",
      "Instructions for updating:\n",
      "non-resource variables are not supported in the long term\n"
     ]
    }
   ],
   "source": [
    "#tf.compat.v1.disable_v2_behavior()"
   ]
  },
  {
   "cell_type": "code",
   "execution_count": 2,
   "id": "constitutional-groove",
   "metadata": {},
   "outputs": [],
   "source": [
    "data_root = \"/Users/ericdoug/Documents/datas/adult\""
   ]
  },
  {
   "cell_type": "code",
   "execution_count": 3,
   "id": "junior-perfume",
   "metadata": {},
   "outputs": [],
   "source": [
    "train_data_file = os.path.join(data_root, \"adult.data.csv\")\n",
    "test_data_file = os.path.join(data_root, \"adult.test.csv\")"
   ]
  },
  {
   "cell_type": "code",
   "execution_count": 7,
   "id": "bright-airline",
   "metadata": {},
   "outputs": [
    {
     "name": "stdout",
     "output_type": "stream",
     "text": [
      "WARNING:tensorflow:From <ipython-input-7-b3b1ae9a4137>:1: TextLineReader.__init__ (from tensorflow.python.ops.io_ops) is deprecated and will be removed in a future version.\n",
      "Instructions for updating:\n",
      "Queue-based input pipelines have been replaced by `tf.data`. Use `tf.data.TextLineDataset`.\n"
     ]
    }
   ],
   "source": [
    "reader = tf.compat.v1.TextLineReader(skip_header_lines=1)"
   ]
  },
  {
   "cell_type": "code",
   "execution_count": 8,
   "id": "aware-server",
   "metadata": {},
   "outputs": [
    {
     "name": "stdout",
     "output_type": "stream",
     "text": [
      "WARNING:tensorflow:From <ipython-input-8-328ec8673dac>:1: string_input_producer (from tensorflow.python.training.input) is deprecated and will be removed in a future version.\n",
      "Instructions for updating:\n",
      "Queue-based input pipelines have been replaced by `tf.data`. Use `tf.data.Dataset.from_tensor_slices(string_tensor).shuffle(tf.shape(input_tensor, out_type=tf.int64)[0]).repeat(num_epochs)`. If `shuffle=False`, omit the `.shuffle(...)`.\n",
      "WARNING:tensorflow:From /Users/ericdoug/opt/anaconda3/envs/competition/lib/python3.7/site-packages/tensorflow/python/training/input.py:277: input_producer (from tensorflow.python.training.input) is deprecated and will be removed in a future version.\n",
      "Instructions for updating:\n",
      "Queue-based input pipelines have been replaced by `tf.data`. Use `tf.data.Dataset.from_tensor_slices(input_tensor).shuffle(tf.shape(input_tensor, out_type=tf.int64)[0]).repeat(num_epochs)`. If `shuffle=False`, omit the `.shuffle(...)`.\n",
      "WARNING:tensorflow:From /Users/ericdoug/opt/anaconda3/envs/competition/lib/python3.7/site-packages/tensorflow/python/training/input.py:189: limit_epochs (from tensorflow.python.training.input) is deprecated and will be removed in a future version.\n",
      "Instructions for updating:\n",
      "Queue-based input pipelines have been replaced by `tf.data`. Use `tf.data.Dataset.from_tensors(tensor).repeat(num_epochs)`.\n",
      "WARNING:tensorflow:From /Users/ericdoug/opt/anaconda3/envs/competition/lib/python3.7/site-packages/tensorflow/python/training/input.py:112: RefVariable.count_up_to (from tensorflow.python.ops.variables) is deprecated and will be removed in a future version.\n",
      "Instructions for updating:\n",
      "Prefer Dataset.range instead.\n",
      "WARNING:tensorflow:From /Users/ericdoug/opt/anaconda3/envs/competition/lib/python3.7/site-packages/tensorflow/python/ops/variables.py:2578: count_up_to (from tensorflow.python.ops.state_ops) is deprecated and will be removed in a future version.\n",
      "Instructions for updating:\n",
      "Prefer Dataset.range instead.\n",
      "WARNING:tensorflow:From /Users/ericdoug/opt/anaconda3/envs/competition/lib/python3.7/site-packages/tensorflow/python/training/input.py:198: QueueRunner.__init__ (from tensorflow.python.training.queue_runner_impl) is deprecated and will be removed in a future version.\n",
      "Instructions for updating:\n",
      "To construct input pipelines, use the `tf.data` module.\n",
      "WARNING:tensorflow:From /Users/ericdoug/opt/anaconda3/envs/competition/lib/python3.7/site-packages/tensorflow/python/training/input.py:198: add_queue_runner (from tensorflow.python.training.queue_runner_impl) is deprecated and will be removed in a future version.\n",
      "Instructions for updating:\n",
      "To construct input pipelines, use the `tf.data` module.\n"
     ]
    }
   ],
   "source": [
    "file_queue = tf.compat.v1.train.string_input_producer([train_data_file], num_epochs=1)"
   ]
  },
  {
   "cell_type": "code",
   "execution_count": 9,
   "id": "superior-instruction",
   "metadata": {},
   "outputs": [],
   "source": [
    "key, value = reader.read(file_queue)"
   ]
  },
  {
   "cell_type": "code",
   "execution_count": 8,
   "id": "decimal-married",
   "metadata": {},
   "outputs": [],
   "source": [
    "_CSV_COLUMN_DEFAULTS = [  # 定义每一列的默认值\n",
    "    [0], [''], [0], [''], [0], [''], [''], [''], [''], [''],\n",
    "    [0], [0], [0], [''], ['']]\n",
    "\n",
    "_CSV_COLUMNS = [  # 定义CVS列名\n",
    "    'age', 'workclass', 'fnlwgt', 'education', 'education_num',\n",
    "    'marital_status', 'occupation', 'relationship', 'race', 'gender',\n",
    "    'capital_gain', 'capital_loss', 'hours_per_week', 'native_area',\n",
    "    'income_bracket'\n",
    "]"
   ]
  },
  {
   "cell_type": "code",
   "execution_count": 11,
   "id": "entire-internship",
   "metadata": {},
   "outputs": [],
   "source": [
    "csvcolumn = tf.io.decode_csv(records=value, record_defaults=_CSV_COLUMN_DEFAULTS)"
   ]
  },
  {
   "cell_type": "code",
   "execution_count": 12,
   "id": "connected-tract",
   "metadata": {},
   "outputs": [],
   "source": [
    "featurecolumnn = [i for i in csvcolumn[1:-1]]"
   ]
  },
  {
   "cell_type": "code",
   "execution_count": 13,
   "id": "criminal-mauritius",
   "metadata": {},
   "outputs": [],
   "source": [
    "labelcolumn = csvcolumn[-1]"
   ]
  },
  {
   "cell_type": "code",
   "execution_count": 14,
   "id": "indonesian-original",
   "metadata": {},
   "outputs": [
    {
     "data": {
      "text/plain": [
       "[<tf.Tensor 'DecodeCSV:1' shape=() dtype=string>,\n",
       " <tf.Tensor 'DecodeCSV:2' shape=() dtype=int32>,\n",
       " <tf.Tensor 'DecodeCSV:3' shape=() dtype=string>,\n",
       " <tf.Tensor 'DecodeCSV:4' shape=() dtype=int32>,\n",
       " <tf.Tensor 'DecodeCSV:5' shape=() dtype=string>,\n",
       " <tf.Tensor 'DecodeCSV:6' shape=() dtype=string>,\n",
       " <tf.Tensor 'DecodeCSV:7' shape=() dtype=string>,\n",
       " <tf.Tensor 'DecodeCSV:8' shape=() dtype=string>,\n",
       " <tf.Tensor 'DecodeCSV:9' shape=() dtype=string>,\n",
       " <tf.Tensor 'DecodeCSV:10' shape=() dtype=int32>,\n",
       " <tf.Tensor 'DecodeCSV:11' shape=() dtype=int32>,\n",
       " <tf.Tensor 'DecodeCSV:12' shape=() dtype=int32>,\n",
       " <tf.Tensor 'DecodeCSV:13' shape=() dtype=string>]"
      ]
     },
     "execution_count": 14,
     "metadata": {},
     "output_type": "execute_result"
    }
   ],
   "source": [
    "featurecolumnn"
   ]
  },
  {
   "cell_type": "code",
   "execution_count": 15,
   "id": "separate-bride",
   "metadata": {},
   "outputs": [
    {
     "data": {
      "text/plain": [
       "<tf.Tensor 'DecodeCSV:14' shape=() dtype=string>"
      ]
     },
     "execution_count": 15,
     "metadata": {},
     "output_type": "execute_result"
    }
   ],
   "source": [
    "labelcolumn"
   ]
  },
  {
   "cell_type": "code",
   "execution_count": 13,
   "id": "comparable-delight",
   "metadata": {},
   "outputs": [
    {
     "name": "stdout",
     "output_type": "stream",
     "text": [
      "features: {'age': <tf.Tensor: shape=(), dtype=int32, numpy=39>, 'workclass': <tf.Tensor: shape=(), dtype=string, numpy=b' State-gov'>, 'fnlwgt': <tf.Tensor: shape=(), dtype=int32, numpy=77516>, 'education': <tf.Tensor: shape=(), dtype=string, numpy=b' Bachelors'>, 'education_num': <tf.Tensor: shape=(), dtype=int32, numpy=13>, 'marital_status': <tf.Tensor: shape=(), dtype=string, numpy=b' Never-married'>, 'occupation': <tf.Tensor: shape=(), dtype=string, numpy=b' Adm-clerical'>, 'relationship': <tf.Tensor: shape=(), dtype=string, numpy=b' Not-in-family'>, 'race': <tf.Tensor: shape=(), dtype=string, numpy=b' White'>, 'gender': <tf.Tensor: shape=(), dtype=string, numpy=b' Male'>, 'capital_gain': <tf.Tensor: shape=(), dtype=int32, numpy=2174>, 'capital_loss': <tf.Tensor: shape=(), dtype=int32, numpy=0>, 'hours_per_week': <tf.Tensor: shape=(), dtype=int32, numpy=40>, 'native_area': <tf.Tensor: shape=(), dtype=string, numpy=b' United-States'>}, labels:b' <=50K'\n",
      "39\n",
      "b' State-gov'\n",
      "tf.Tensor(False, shape=(), dtype=bool)\n"
     ]
    }
   ],
   "source": [
    "dataset = tf.data.TextLineDataset(train_data_file)\n",
    "for item in dataset.take(1):\n",
    "    parsed_output = tf.io.decode_csv(item.numpy(), _CSV_COLUMN_DEFAULTS)\n",
    "    features = dict(zip(_CSV_COLUMNS, parsed_output))\n",
    "    labels = features.pop('income_bracket')\n",
    "    print(f\"features: {features}, labels:{labels}\")\n",
    "    print(features['age'].numpy())\n",
    "    print(features['workclass'].numpy())\n",
    "    print(tf.equal(labels, \">50K\"))"
   ]
  },
  {
   "cell_type": "code",
   "execution_count": null,
   "id": "angry-somalia",
   "metadata": {},
   "outputs": [],
   "source": []
  }
 ],
 "metadata": {
  "kernelspec": {
   "display_name": "Python 3",
   "language": "python",
   "name": "python3"
  },
  "language_info": {
   "codemirror_mode": {
    "name": "ipython",
    "version": 3
   },
   "file_extension": ".py",
   "mimetype": "text/x-python",
   "name": "python",
   "nbconvert_exporter": "python",
   "pygments_lexer": "ipython3",
   "version": "3.7.10"
  }
 },
 "nbformat": 4,
 "nbformat_minor": 5
}
